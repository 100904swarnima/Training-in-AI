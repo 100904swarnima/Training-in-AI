{
  "nbformat": 4,
  "nbformat_minor": 0,
  "metadata": {
    "colab": {
      "provenance": []
    },
    "kernelspec": {
      "name": "python3",
      "display_name": "Python 3"
    },
    "language_info": {
      "name": "python"
    }
  },
  "cells": [
    {
      "cell_type": "code",
      "execution_count": 1,
      "metadata": {
        "id": "jor1sLNB90rh",
        "colab": {
          "base_uri": "https://localhost:8080/"
        },
        "outputId": "80790efc-bb98-4d39-8a3b-f329de86fb54"
      },
      "outputs": [
        {
          "output_type": "stream",
          "name": "stdout",
          "text": [
            "Cloning into 'python-mnist'...\n",
            "remote: Enumerating objects: 246, done.\u001b[K\n",
            "remote: Counting objects: 100% (6/6), done.\u001b[K\n",
            "remote: Compressing objects: 100% (6/6), done.\u001b[K\n",
            "remote: Total 246 (delta 1), reused 2 (delta 0), pack-reused 240 (from 1)\u001b[K\n",
            "Receiving objects: 100% (246/246), 47.14 KiB | 3.93 MiB/s, done.\n",
            "Resolving deltas: 100% (119/119), done.\n",
            "--2025-03-20 14:13:50--  http://yann.lecun.com/exdb/mnist/\n",
            "Resolving yann.lecun.com (yann.lecun.com)... 15.204.224.156\n",
            "Connecting to yann.lecun.com (yann.lecun.com)|15.204.224.156|:80... connected.\n",
            "HTTP request sent, awaiting response... 200 OK\n",
            "Length: 756 [text/html]\n",
            "Saving to: ‘data/index.html.tmp’\n",
            "\n",
            "index.html.tmp      100%[===================>]     756  --.-KB/s    in 0s      \n",
            "\n",
            "2025-03-20 14:13:50 (85.2 MB/s) - ‘data/index.html.tmp’ saved [756/756]\n",
            "\n",
            "Loading robots.txt; please ignore errors.\n",
            "--2025-03-20 14:13:50--  http://yann.lecun.com/robots.txt\n",
            "Reusing existing connection to yann.lecun.com:80.\n",
            "HTTP request sent, awaiting response... 404 Not Found\n",
            "2025-03-20 14:13:50 ERROR 404: Not Found.\n",
            "\n",
            "Removing data/index.html.tmp since it should be rejected.\n",
            "\n",
            "--2025-03-20 14:13:50--  http://yann.lecun.com/exdb/mnist/?C=N;O=D\n",
            "Reusing existing connection to yann.lecun.com:80.\n",
            "HTTP request sent, awaiting response... 200 OK\n",
            "Length: 756 [text/html]\n",
            "Saving to: ‘data/index.html?C=N;O=D.tmp’\n",
            "\n",
            "index.html?C=N;O=D. 100%[===================>]     756  --.-KB/s    in 0s      \n",
            "\n",
            "2025-03-20 14:13:50 (119 MB/s) - ‘data/index.html?C=N;O=D.tmp’ saved [756/756]\n",
            "\n",
            "Removing data/index.html?C=N;O=D.tmp since it should be rejected.\n",
            "\n",
            "--2025-03-20 14:13:50--  http://yann.lecun.com/exdb/mnist/?C=M;O=A\n",
            "Reusing existing connection to yann.lecun.com:80.\n",
            "HTTP request sent, awaiting response... 200 OK\n",
            "Length: 756 [text/html]\n",
            "Saving to: ‘data/index.html?C=M;O=A.tmp’\n",
            "\n",
            "index.html?C=M;O=A. 100%[===================>]     756  --.-KB/s    in 0s      \n",
            "\n",
            "2025-03-20 14:13:50 (106 MB/s) - ‘data/index.html?C=M;O=A.tmp’ saved [756/756]\n",
            "\n",
            "Removing data/index.html?C=M;O=A.tmp since it should be rejected.\n",
            "\n",
            "--2025-03-20 14:13:50--  http://yann.lecun.com/exdb/mnist/?C=S;O=A\n",
            "Reusing existing connection to yann.lecun.com:80.\n",
            "HTTP request sent, awaiting response... 200 OK\n",
            "Length: 756 [text/html]\n",
            "Saving to: ‘data/index.html?C=S;O=A.tmp’\n",
            "\n",
            "index.html?C=S;O=A. 100%[===================>]     756  --.-KB/s    in 0s      \n",
            "\n",
            "2025-03-20 14:13:50 (100 MB/s) - ‘data/index.html?C=S;O=A.tmp’ saved [756/756]\n",
            "\n",
            "Removing data/index.html?C=S;O=A.tmp since it should be rejected.\n",
            "\n",
            "--2025-03-20 14:13:50--  http://yann.lecun.com/exdb/mnist/?C=D;O=A\n",
            "Reusing existing connection to yann.lecun.com:80.\n",
            "HTTP request sent, awaiting response... 200 OK\n",
            "Length: 756 [text/html]\n",
            "Saving to: ‘data/index.html?C=D;O=A.tmp’\n",
            "\n",
            "index.html?C=D;O=A. 100%[===================>]     756  --.-KB/s    in 0s      \n",
            "\n",
            "2025-03-20 14:13:50 (93.8 MB/s) - ‘data/index.html?C=D;O=A.tmp’ saved [756/756]\n",
            "\n",
            "Removing data/index.html?C=D;O=A.tmp since it should be rejected.\n",
            "\n",
            "--2025-03-20 14:13:50--  http://yann.lecun.com/exdb/\n",
            "Reusing existing connection to yann.lecun.com:80.\n",
            "HTTP request sent, awaiting response... 200 OK\n",
            "Length: 2077 (2.0K) [text/html]\n",
            "Saving to: ‘data/index.html.tmp’\n",
            "\n",
            "index.html.tmp      100%[===================>]   2.03K  --.-KB/s    in 0s      \n",
            "\n",
            "2025-03-20 14:13:50 (254 MB/s) - ‘data/index.html.tmp’ saved [2077/2077]\n",
            "\n",
            "Removing data/index.html.tmp since it should be rejected.\n",
            "\n",
            "FINISHED --2025-03-20 14:13:50--\n",
            "Total wall clock time: 0.05s\n",
            "Downloaded: 6 files, 5.7K in 0s (127 MB/s)\n",
            "/content/data /content\n",
            "gzip: *.gz: No such file or directory\n",
            "/content\n",
            "Collecting emnist\n",
            "  Downloading emnist-0.0-py3-none-any.whl.metadata (3.7 kB)\n",
            "Requirement already satisfied: numpy in /usr/local/lib/python3.11/dist-packages (from emnist) (2.0.2)\n",
            "Requirement already satisfied: requests in /usr/local/lib/python3.11/dist-packages (from emnist) (2.32.3)\n",
            "Requirement already satisfied: tqdm in /usr/local/lib/python3.11/dist-packages (from emnist) (4.67.1)\n",
            "Requirement already satisfied: charset-normalizer<4,>=2 in /usr/local/lib/python3.11/dist-packages (from requests->emnist) (3.4.1)\n",
            "Requirement already satisfied: idna<4,>=2.5 in /usr/local/lib/python3.11/dist-packages (from requests->emnist) (3.10)\n",
            "Requirement already satisfied: urllib3<3,>=1.21.1 in /usr/local/lib/python3.11/dist-packages (from requests->emnist) (2.3.0)\n",
            "Requirement already satisfied: certifi>=2017.4.17 in /usr/local/lib/python3.11/dist-packages (from requests->emnist) (2025.1.31)\n",
            "Downloading emnist-0.0-py3-none-any.whl (7.3 kB)\n",
            "Installing collected packages: emnist\n",
            "Successfully installed emnist-0.0\n",
            "Imported the EMNIST libraries we need!\n"
          ]
        }
      ],
      "source": [
        "# STEP 1.1\n",
        "\n",
        "!git clone https://github.com/sorki/python-mnist\n",
        "!./python-mnist/bin/mnist_get_data.sh\n",
        "!pip3 install emnist\n",
        "from emnist import extract_training_samples\n",
        "\n",
        "print(\"Imported the EMNIST libraries we need!\")"
      ]
    },
    {
      "cell_type": "code",
      "source": [
        "import torch\n",
        "from torchvision import datasets, transforms\n",
        "\n",
        "# Define transformation to convert images to tensors and normalize pixel values\n",
        "transform = transforms.Compose([transforms.ToTensor()])\n",
        "\n",
        "# Download and load the full EMNIST 'letters' dataset\n",
        "train_dataset = datasets.EMNIST(root='./data', split='letters', train=True, transform=transform, download=True)\n",
        "test_dataset = datasets.EMNIST(root='./data', split='letters', train=False, transform=transform, download=True)\n",
        "\n",
        "# Extract image data and labels\n",
        "X = torch.cat((train_dataset.data, test_dataset.data), dim=0).numpy()  # Combine train and test sets\n",
        "y = torch.cat((train_dataset.targets, test_dataset.targets), dim=0).numpy()\n",
        "\n",
        "# Normalize pixel values to be between 0 and 1\n",
        "X = X / 255.0\n",
        "\n",
        "# Use the first 60,000 instances as training and the next 10,000 as testing\n",
        "X_train, X_test = X[:60000], X[60000:70000]\n",
        "y_train, y_test = y[:60000], y[60000:70000]\n",
        "\n",
        "# Reshape images to be 1D vectors (28x28 → 784)\n",
        "X_train = X_train.reshape(60000, 784)\n",
        "X_test = X_test.reshape(10000, 784)\n",
        "\n",
        "print(\"Extracted our samples and divided our training and testing datasets successfully!\")\n"
      ],
      "metadata": {
        "colab": {
          "base_uri": "https://localhost:8080/"
        },
        "id": "jqGfBxq_8T5d",
        "outputId": "b52fda10-6618-4a96-a521-c03925c52c93"
      },
      "execution_count": 7,
      "outputs": [
        {
          "output_type": "stream",
          "name": "stdout",
          "text": [
            "Extracted our samples and divided our training and testing datasets successfully!\n"
          ]
        }
      ]
    },
    {
      "cell_type": "code",
      "source": [
        "# STEP 1.3\n",
        "\n",
        "import matplotlib.pyplot as plt\n",
        "\n",
        "img_index = 12000 # <<<<<  You can update this value to look at other images\n",
        "img = X_train[img_index]\n",
        "print(\"Image Label: \" + str(chr(y_train[img_index]+96)))\n",
        "plt.imshow(img.reshape((28,28)))"
      ],
      "metadata": {
        "colab": {
          "base_uri": "https://localhost:8080/",
          "height": 466
        },
        "id": "1G6Yqms582r6",
        "outputId": "d0eabdb0-aec4-4da2-9f80-cc1069098d4f"
      },
      "execution_count": 11,
      "outputs": [
        {
          "output_type": "stream",
          "name": "stdout",
          "text": [
            "Image Label: r\n"
          ]
        },
        {
          "output_type": "execute_result",
          "data": {
            "text/plain": [
              "<matplotlib.image.AxesImage at 0x7bdeba68f110>"
            ]
          },
          "metadata": {},
          "execution_count": 11
        },
        {
          "output_type": "display_data",
          "data": {
            "text/plain": [
              "<Figure size 640x480 with 1 Axes>"
            ],
            "image/png": "[encoded data removed]"
          },
          "metadata": {}
        }
      ]
    },
    {
      "cell_type": "code",
      "source": [
        "# STEP 2.1\n",
        "\n",
        "# These two lines import the ML libraries we need\n",
        "from sklearn.datasets import fetch_openml\n",
        "from sklearn.neural_network import MLPClassifier\n",
        "\n",
        "# This creates our first MLP with 1 hidden layer with 50 neurons and sets it to run through the data 20 times\n",
        "mlp1 = MLPClassifier(hidden_layer_sizes=(50,), max_iter=20, alpha=1e-4,\n",
        "                    solver='sgd', verbose=10, tol=1e-4, random_state=1,\n",
        "                    learning_rate_init=.1)\n",
        "\n",
        "print(\"Created our first MLP network\")"
      ],
      "metadata": {
        "colab": {
          "base_uri": "https://localhost:8080/"
        },
        "id": "--M9ttZzBgDq",
        "outputId": "7c044cf5-8f2d-4b10-cb48-f990bfa4cb7e"
      },
      "execution_count": 12,
      "outputs": [
        {
          "output_type": "stream",
          "name": "stdout",
          "text": [
            "Created our first MLP network\n"
          ]
        }
      ]
    },
    {
      "cell_type": "code",
      "source": [
        "# STEP 3.1\n",
        "\n",
        "mlp1.fit(X_train, y_train)\n",
        "print(\"Training set score: %f\" % mlp1.score(X_train, y_train))\n",
        "print(\"Test set score: %f\" % mlp1.score(X_test, y_test))"
      ],
      "metadata": {
        "colab": {
          "base_uri": "https://localhost:8080/"
        },
        "id": "fDnIjyfPBnL6",
        "outputId": "e303bdf0-2f35-4fba-8f2e-3c96ab628952"
      },
      "execution_count": 13,
      "outputs": [
        {
          "output_type": "stream",
          "name": "stdout",
          "text": [
            "Iteration 1, loss = 1.05878600\n",
            "Iteration 2, loss = 0.64927627\n",
            "Iteration 3, loss = 0.55637319\n",
            "Iteration 4, loss = 0.51273212\n",
            "Iteration 5, loss = 0.48404966\n",
            "Iteration 6, loss = 0.46317090\n",
            "Iteration 7, loss = 0.44595547\n",
            "Iteration 8, loss = 0.43564624\n",
            "Iteration 9, loss = 0.42494025\n",
            "Iteration 10, loss = 0.41526839\n",
            "Iteration 11, loss = 0.40854953\n",
            "Iteration 12, loss = 0.39905919\n",
            "Iteration 13, loss = 0.39325826\n",
            "Iteration 14, loss = 0.38700867\n",
            "Iteration 15, loss = 0.38029587\n",
            "Iteration 16, loss = 0.37702644\n",
            "Iteration 17, loss = 0.37286688\n",
            "Iteration 18, loss = 0.36789455\n",
            "Iteration 19, loss = 0.36424306\n",
            "Iteration 20, loss = 0.35785232\n"
          ]
        },
        {
          "output_type": "stream",
          "name": "stderr",
          "text": [
            "/usr/local/lib/python3.11/dist-packages/sklearn/neural_network/_multilayer_perceptron.py:691: ConvergenceWarning: Stochastic Optimizer: Maximum iterations (20) reached and the optimization hasn't converged yet.\n",
            "  warnings.warn(\n"
          ]
        },
        {
          "output_type": "stream",
          "name": "stdout",
          "text": [
            "Training set score: 0.886650\n",
            "Test set score: 0.841900\n"
          ]
        }
      ]
    },
    {
      "cell_type": "code",
      "source": [
        "# STEP 3.2\n",
        "\n",
        "# First let's initialize a list with all the predicted values from the training set\n",
        "y_pred = mlp1.predict(X_test)\n",
        "\n",
        "# Now let's visualize the errors between the predictions and the actual labels using a confusion matrix\n",
        "from sklearn.metrics import confusion_matrix\n",
        "cm = confusion_matrix(y_test, y_pred)\n",
        "plt.matshow(cm)"
      ],
      "metadata": {
        "colab": {
          "base_uri": "https://localhost:8080/",
          "height": 455
        },
        "id": "A65a18b6CGwY",
        "outputId": "0a1b9eb9-c764-4971-a7fd-0427da71cc59"
      },
      "execution_count": 14,
      "outputs": [
        {
          "output_type": "execute_result",
          "data": {
            "text/plain": [
              "<matplotlib.image.AxesImage at 0x7bdeba279d90>"
            ]
          },
          "metadata": {},
          "execution_count": 14
        },
        {
          "output_type": "display_data",
          "data": {
            "text/plain": [
              "<Figure size 480x480 with 1 Axes>"
            ],
            "image/png": "[encoded data removed]"
          },
          "metadata": {}
        }
      ]
    },
    {
      "cell_type": "code",
      "source": [
        "# STEP 3.3\n",
        "\n",
        "# You can change this to any letters that you think the neural network may have confused...\n",
        "predicted_letter = 'l'\n",
        "actual_letter = 'i'\n",
        "\n",
        "\n",
        "# This code counts all mistakes for the letters above\n",
        "mistake_list = []\n",
        "for i in range(len(y_test)):\n",
        "  if (y_test[i] == (ord(actual_letter) - 96) and y_pred[i] == (ord(predicted_letter) - 96)):\n",
        "    mistake_list.append(i)\n",
        "print(\"There were \" + str(len(mistake_list)) + \" times that the letter \" + actual_letter + \" was predicted to be the letter \" + predicted_letter + \".\")\n",
        "\n",
        "# Once we know how many mistakes were made, we can change this to see an image of a particular one\n",
        "mistake_to_show = 4 # <<< e.g., change this to 3 if you want to see the 4th mistake\n",
        "\n",
        "# This code checks that the number mistake you asked for can be shown and if so, displays an image of it\n",
        "if (len(mistake_list)> mistake_to_show):\n",
        "  img = X_test[mistake_list[mistake_to_show]]\n",
        "  plt.imshow(img.reshape((28,28)))\n",
        "else:\n",
        "  print(\"Couldn't show mistake number \" + str(mistake_to_show + 1) + \" because there were only \" + str(len(mistake_list)) + \" mistakes to show!\")"
      ],
      "metadata": {
        "colab": {
          "base_uri": "https://localhost:8080/",
          "height": 448
        },
        "id": "FuZrTqIkCSC3",
        "outputId": "3265bba0-649a-470b-f52b-e0ddc31d132d"
      },
      "execution_count": 15,
      "outputs": [
        {
          "output_type": "stream",
          "name": "stdout",
          "text": [
            "There were 71 times that the letter i was predicted to be the letter l.\n"
          ]
        },
        {
          "output_type": "display_data",
          "data": {
            "text/plain": [
              "<Figure size 640x480 with 1 Axes>"
            ],
            "image/png": "[encoded data removed]"
          },
          "metadata": {}
        }
      ]
    },
    {
      "cell_type": "code",
      "source": [
        "# STEP 3.4\n",
        "\n",
        "# Change some of the values in the below statement and re-run to see how they\n",
        "# affect performance!\n",
        "mlp2 = MLPClassifier(hidden_layer_sizes=(100,100,100,100,100,), max_iter=50, alpha=1e-4,\n",
        "                    solver='sgd', verbose=10, tol=1e-4, random_state=1,\n",
        "                    learning_rate_init=.1)\n",
        "mlp2.fit(X_train, y_train)\n",
        "print(\"Training set score: %f\" % mlp2.score(X_train, y_train))\n",
        "print(\"Test set score: %f\" % mlp2.score(X_test, y_test))"
      ],
      "metadata": {
        "colab": {
          "base_uri": "https://localhost:8080/"
        },
        "id": "A23ySO5ICf3P",
        "outputId": "e505a5d7-7246-4c83-9083-13e3c89df73c"
      },
      "execution_count": 16,
      "outputs": [
        {
          "output_type": "stream",
          "name": "stdout",
          "text": [
            "Iteration 1, loss = 1.19213072\n",
            "Iteration 2, loss = 0.55569686\n",
            "Iteration 3, loss = 0.45240539\n",
            "Iteration 4, loss = 0.40164871\n",
            "Iteration 5, loss = 0.36415481\n",
            "Iteration 6, loss = 0.33833428\n",
            "Iteration 7, loss = 0.31944485\n",
            "Iteration 8, loss = 0.29416651\n",
            "Iteration 9, loss = 0.28231331\n",
            "Iteration 10, loss = 0.27511733\n",
            "Iteration 11, loss = 0.26498406\n",
            "Iteration 12, loss = 0.25555369\n",
            "Iteration 13, loss = 0.24877935\n",
            "Iteration 14, loss = 0.24513431\n",
            "Iteration 15, loss = 0.23716811\n",
            "Iteration 16, loss = 0.22946943\n",
            "Iteration 17, loss = 0.22761312\n",
            "Iteration 18, loss = 0.21938314\n",
            "Iteration 19, loss = 0.21413617\n",
            "Iteration 20, loss = 0.21868199\n",
            "Iteration 21, loss = 0.21129555\n",
            "Iteration 22, loss = 0.21021434\n",
            "Iteration 23, loss = 0.20279345\n",
            "Iteration 24, loss = 0.19913563\n",
            "Iteration 25, loss = 0.20344832\n",
            "Iteration 26, loss = 0.20051670\n",
            "Iteration 27, loss = 0.19459391\n",
            "Iteration 28, loss = 0.19744981\n",
            "Iteration 29, loss = 0.19993073\n",
            "Iteration 30, loss = 0.19206002\n",
            "Iteration 31, loss = 0.19120739\n",
            "Iteration 32, loss = 0.19673726\n",
            "Iteration 33, loss = 0.19123874\n",
            "Iteration 34, loss = 0.20143331\n",
            "Iteration 35, loss = 0.19527832\n",
            "Iteration 36, loss = 0.19241505\n",
            "Iteration 37, loss = 0.18271825\n",
            "Iteration 38, loss = 0.19137064\n",
            "Iteration 39, loss = 0.18365933\n",
            "Iteration 40, loss = 0.18072251\n",
            "Iteration 41, loss = 0.18249851\n",
            "Iteration 42, loss = 0.18596692\n",
            "Iteration 43, loss = 0.18282573\n",
            "Iteration 44, loss = 0.18179056\n",
            "Iteration 45, loss = 0.19691011\n",
            "Iteration 46, loss = 0.20049802\n",
            "Iteration 47, loss = 0.18764318\n",
            "Iteration 48, loss = 0.18828098\n",
            "Iteration 49, loss = 0.17713798\n",
            "Iteration 50, loss = 0.17719593\n"
          ]
        },
        {
          "output_type": "stream",
          "name": "stderr",
          "text": [
            "/usr/local/lib/python3.11/dist-packages/sklearn/neural_network/_multilayer_perceptron.py:691: ConvergenceWarning: Stochastic Optimizer: Maximum iterations (50) reached and the optimization hasn't converged yet.\n",
            "  warnings.warn(\n"
          ]
        },
        {
          "output_type": "stream",
          "name": "stdout",
          "text": [
            "Training set score: 0.940817\n",
            "Test set score: 0.882000\n"
          ]
        }
      ]
    },
    {
      "cell_type": "code",
      "source": [
        "# STEP 4.1\n",
        "\n",
        "# Pulls the scanned data set from GitHub\n",
        "!git clone https://github.com/crash-course-ai/lab1-neural-networks.git\n",
        "!git pull\n",
        "!ls lab1-neural-networks/letters_mod\n",
        "!cd /content/lab1-neural-networks/letters_mod\n",
        "!pwd\n",
        "\n",
        "# Puts all the data in the \"files\" variable\n",
        "import os\n",
        "path, dirs, files = next(os.walk(\"/content/lab1-neural-networks/letters_mod/\"))\n",
        "files.sort()"
      ],
      "metadata": {
        "colab": {
          "base_uri": "https://localhost:8080/"
        },
        "id": "QfW3d_gAD6Ny",
        "outputId": "a3d03ed9-a698-45c3-a534-4e35e7dae954"
      },
      "execution_count": 17,
      "outputs": [
        {
          "output_type": "stream",
          "name": "stdout",
          "text": [
            "Cloning into 'lab1-neural-networks'...\n",
            "remote: Enumerating objects: 152, done.\u001b[K\n",
            "remote: Total 152 (delta 0), reused 0 (delta 0), pack-reused 152 (from 1)\u001b[K\n",
            "Receiving objects: 100% (152/152), 4.60 MiB | 10.86 MiB/s, done.\n",
            "Resolving deltas: 100% (59/59), done.\n",
            "fatal: not a git repository (or any of the parent directories): .git\n",
            "00.jpg\t09.jpg\t18.jpg\t27.jpg\t36.jpg\t45.jpg\t54.jpg\t63.jpg\t72.jpg\t81.jpg\t90.jpg\t99.jpg\n",
            "01.jpg\t10.jpg\t19.jpg\t28.jpg\t37.jpg\t46.jpg\t55.jpg\t64.jpg\t73.jpg\t82.jpg\t91.jpg\n",
            "02.jpg\t11.jpg\t20.jpg\t29.jpg\t38.jpg\t47.jpg\t56.jpg\t65.jpg\t74.jpg\t83.jpg\t92.jpg\n",
            "03.jpg\t12.jpg\t21.jpg\t30.jpg\t39.jpg\t48.jpg\t57.jpg\t66.jpg\t75.jpg\t84.jpg\t93.jpg\n",
            "04.jpg\t13.jpg\t22.jpg\t31.jpg\t40.jpg\t49.jpg\t58.jpg\t67.jpg\t76.jpg\t85.jpg\t94.jpg\n",
            "05.jpg\t14.jpg\t23.jpg\t32.jpg\t41.jpg\t50.jpg\t59.jpg\t68.jpg\t77.jpg\t86.jpg\t95.jpg\n",
            "06.jpg\t15.jpg\t24.jpg\t33.jpg\t42.jpg\t51.jpg\t60.jpg\t69.jpg\t78.jpg\t87.jpg\t96.jpg\n",
            "07.jpg\t16.jpg\t25.jpg\t34.jpg\t43.jpg\t52.jpg\t61.jpg\t70.jpg\t79.jpg\t88.jpg\t97.jpg\n",
            "08.jpg\t17.jpg\t26.jpg\t35.jpg\t44.jpg\t53.jpg\t62.jpg\t71.jpg\t80.jpg\t89.jpg\t98.jpg\n",
            "/content\n"
          ]
        }
      ]
    },
    {
      "cell_type": "code",
      "source": [
        "# STEP 4.2\n",
        "\n",
        "# These libraries let us import the letters, resize them, and print them out\n",
        "import cv2\n",
        "import matplotlib.pyplot as plt\n",
        "\n",
        "# This code processes all the scanned images and adds them to the handwritten_story\n",
        "handwritten_story = []\n",
        "for i in range(len(files)):\n",
        "  img = cv2.imread(\"/content/lab1-neural-networks/letters_mod/\"+files[i],cv2.IMREAD_GRAYSCALE)\n",
        "  handwritten_story.append(img)\n",
        "\n",
        "print(\"Imported the scanned images.\")\n",
        "\n",
        "plt.imshow(handwritten_story[4])  #<--- Change this index to see different letters\n"
      ],
      "metadata": {
        "colab": {
          "base_uri": "https://localhost:8080/",
          "height": 470
        },
        "id": "q22QXLY6ED8x",
        "outputId": "cd9be272-68c3-4779-d887-84f35a47a9e4"
      },
      "execution_count": 18,
      "outputs": [
        {
          "output_type": "stream",
          "name": "stdout",
          "text": [
            "Imported the scanned images.\n"
          ]
        },
        {
          "output_type": "execute_result",
          "data": {
            "text/plain": [
              "<matplotlib.image.AxesImage at 0x7bdeba161d90>"
            ]
          },
          "metadata": {},
          "execution_count": 18
        },
        {
          "output_type": "display_data",
          "data": {
            "text/plain": [
              "<Figure size 640x480 with 1 Axes>"
            ],
            "image/png": "[encoded data removed]"
          },
          "metadata": {}
        }
      ]
    },
    {
      "cell_type": "code",
      "source": [
        "# STEP 4.3\n",
        "\n",
        "# These are libraries we need to do some math on the image\n",
        "# to be able to give it to the MLP in the right format and to resize it to 28x28 pixels\n",
        "import numpy\n",
        "import cv2\n",
        "\n",
        "typed_story = \"\"\n",
        "for letter in handwritten_story:\n",
        "    letter = cv2.resize(letter, (28,28), interpolation = cv2.INTER_CUBIC)\n",
        "    single_item_array = (numpy.array(letter)).reshape(1,784)\n",
        "    prediction = mlp2.predict(single_item_array)\n",
        "    typed_story = typed_story + str(chr(prediction[0]+96))\n",
        "\n",
        "print(\"Conversion to typed story complete!\")\n",
        "print(typed_story)"
      ],
      "metadata": {
        "colab": {
          "base_uri": "https://localhost:8080/"
        },
        "id": "Da2_SUwgEQ28",
        "outputId": "265e5a3c-9438-4b79-afee-d8068ce37d3e"
      },
      "execution_count": 19,
      "outputs": [
        {
          "output_type": "stream",
          "name": "stdout",
          "text": [
            "Conversion to typed story complete!\n",
            "ffnjtxdgrjtzjoaajrajnjjwjjrjtmwjhjtnddjhsjjozmjtzmjzxxjxaaejcxttmemjuhawjwtaxtzjxzujafrsjxjjjxtjasor\n"
          ]
        }
      ]
    },
    {
      "cell_type": "code",
      "source": [
        "# STEP 4.4\n",
        "\n",
        "# This is a library we need to do some math on the image to be able to give it to the MLP in the right format\n",
        "import numpy\n",
        "\n",
        "typed_story = \"\"\n",
        "for letter in handwritten_story:\n",
        "  letter = cv2.resize(letter, (28,28), interpolation = cv2.INTER_CUBIC)\n",
        "\n",
        "  #this bit of code checks to see if the image is just a blank space by looking at the color of all the pixels summed\n",
        "  total_pixel_value = 0\n",
        "  for j in range(28):\n",
        "    for k in range(28):\n",
        "      total_pixel_value += letter[j,k]\n",
        "  if total_pixel_value < 20:\n",
        "    typed_story = typed_story + \" \"\n",
        "  else:         #if it NOT a blank, it actually runs the prediction algorithm on it\n",
        "    single_item_array = (numpy.array(letter)).reshape(1,784)\n",
        "    prediction = mlp2.predict(single_item_array)\n",
        "    typed_story = typed_story + str(chr(prediction[0]+96))\n",
        "\n",
        "print(\"Conversion to typed story complete!\")\n",
        "print(typed_story)"
      ],
      "metadata": {
        "colab": {
          "base_uri": "https://localhost:8080/"
        },
        "id": "3YFgBHWpEXqw",
        "outputId": "c35a8b21-a332-48bf-911c-e8b8e567333c"
      },
      "execution_count": 20,
      "outputs": [
        {
          "output_type": "stream",
          "name": "stdout",
          "text": [
            "Conversion to typed story complete!\n",
            "ffn txdgr t  oaa rajnj wjjrjtmw h t dd hs joz  tz  zxx xaae cxttmem uhaw w ax z xzu afrs xjj xt asor\n"
          ]
        },
        {
          "output_type": "stream",
          "name": "stderr",
          "text": [
            "<ipython-input-20-d2ad2478f03d>:14: RuntimeWarning: overflow encountered in scalar add\n",
            "  total_pixel_value += letter[j,k]\n",
            "<ipython-input-20-d2ad2478f03d>:14: RuntimeWarning: overflow encountered in scalar add\n",
            "  total_pixel_value += letter[j,k]\n",
            "<ipython-input-20-d2ad2478f03d>:14: RuntimeWarning: overflow encountered in scalar add\n",
            "  total_pixel_value += letter[j,k]\n",
            "<ipython-input-20-d2ad2478f03d>:14: RuntimeWarning: overflow encountered in scalar add\n",
            "  total_pixel_value += letter[j,k]\n",
            "<ipython-input-20-d2ad2478f03d>:14: RuntimeWarning: overflow encountered in scalar add\n",
            "  total_pixel_value += letter[j,k]\n",
            "<ipython-input-20-d2ad2478f03d>:14: RuntimeWarning: overflow encountered in scalar add\n",
            "  total_pixel_value += letter[j,k]\n",
            "<ipython-input-20-d2ad2478f03d>:14: RuntimeWarning: overflow encountered in scalar add\n",
            "  total_pixel_value += letter[j,k]\n",
            "<ipython-input-20-d2ad2478f03d>:14: RuntimeWarning: overflow encountered in scalar add\n",
            "  total_pixel_value += letter[j,k]\n",
            "<ipython-input-20-d2ad2478f03d>:14: RuntimeWarning: overflow encountered in scalar add\n",
            "  total_pixel_value += letter[j,k]\n",
            "<ipython-input-20-d2ad2478f03d>:14: RuntimeWarning: overflow encountered in scalar add\n",
            "  total_pixel_value += letter[j,k]\n",
            "<ipython-input-20-d2ad2478f03d>:14: RuntimeWarning: overflow encountered in scalar add\n",
            "  total_pixel_value += letter[j,k]\n",
            "<ipython-input-20-d2ad2478f03d>:14: RuntimeWarning: overflow encountered in scalar add\n",
            "  total_pixel_value += letter[j,k]\n",
            "<ipython-input-20-d2ad2478f03d>:14: RuntimeWarning: overflow encountered in scalar add\n",
            "  total_pixel_value += letter[j,k]\n",
            "<ipython-input-20-d2ad2478f03d>:14: RuntimeWarning: overflow encountered in scalar add\n",
            "  total_pixel_value += letter[j,k]\n",
            "<ipython-input-20-d2ad2478f03d>:14: RuntimeWarning: overflow encountered in scalar add\n",
            "  total_pixel_value += letter[j,k]\n",
            "<ipython-input-20-d2ad2478f03d>:14: RuntimeWarning: overflow encountered in scalar add\n",
            "  total_pixel_value += letter[j,k]\n",
            "<ipython-input-20-d2ad2478f03d>:14: RuntimeWarning: overflow encountered in scalar add\n",
            "  total_pixel_value += letter[j,k]\n",
            "<ipython-input-20-d2ad2478f03d>:14: RuntimeWarning: overflow encountered in scalar add\n",
            "  total_pixel_value += letter[j,k]\n",
            "<ipython-input-20-d2ad2478f03d>:14: RuntimeWarning: overflow encountered in scalar add\n",
            "  total_pixel_value += letter[j,k]\n",
            "<ipython-input-20-d2ad2478f03d>:14: RuntimeWarning: overflow encountered in scalar add\n",
            "  total_pixel_value += letter[j,k]\n",
            "<ipython-input-20-d2ad2478f03d>:14: RuntimeWarning: overflow encountered in scalar add\n",
            "  total_pixel_value += letter[j,k]\n",
            "<ipython-input-20-d2ad2478f03d>:14: RuntimeWarning: overflow encountered in scalar add\n",
            "  total_pixel_value += letter[j,k]\n",
            "<ipython-input-20-d2ad2478f03d>:14: RuntimeWarning: overflow encountered in scalar add\n",
            "  total_pixel_value += letter[j,k]\n",
            "<ipython-input-20-d2ad2478f03d>:14: RuntimeWarning: overflow encountered in scalar add\n",
            "  total_pixel_value += letter[j,k]\n",
            "<ipython-input-20-d2ad2478f03d>:14: RuntimeWarning: overflow encountered in scalar add\n",
            "  total_pixel_value += letter[j,k]\n",
            "<ipython-input-20-d2ad2478f03d>:14: RuntimeWarning: overflow encountered in scalar add\n",
            "  total_pixel_value += letter[j,k]\n",
            "<ipython-input-20-d2ad2478f03d>:14: RuntimeWarning: overflow encountered in scalar add\n",
            "  total_pixel_value += letter[j,k]\n",
            "<ipython-input-20-d2ad2478f03d>:14: RuntimeWarning: overflow encountered in scalar add\n",
            "  total_pixel_value += letter[j,k]\n",
            "<ipython-input-20-d2ad2478f03d>:14: RuntimeWarning: overflow encountered in scalar add\n",
            "  total_pixel_value += letter[j,k]\n",
            "<ipython-input-20-d2ad2478f03d>:14: RuntimeWarning: overflow encountered in scalar add\n",
            "  total_pixel_value += letter[j,k]\n",
            "<ipython-input-20-d2ad2478f03d>:14: RuntimeWarning: overflow encountered in scalar add\n",
            "  total_pixel_value += letter[j,k]\n",
            "<ipython-input-20-d2ad2478f03d>:14: RuntimeWarning: overflow encountered in scalar add\n",
            "  total_pixel_value += letter[j,k]\n",
            "<ipython-input-20-d2ad2478f03d>:14: RuntimeWarning: overflow encountered in scalar add\n",
            "  total_pixel_value += letter[j,k]\n",
            "<ipython-input-20-d2ad2478f03d>:14: RuntimeWarning: overflow encountered in scalar add\n",
            "  total_pixel_value += letter[j,k]\n",
            "<ipython-input-20-d2ad2478f03d>:14: RuntimeWarning: overflow encountered in scalar add\n",
            "  total_pixel_value += letter[j,k]\n",
            "<ipython-input-20-d2ad2478f03d>:14: RuntimeWarning: overflow encountered in scalar add\n",
            "  total_pixel_value += letter[j,k]\n",
            "<ipython-input-20-d2ad2478f03d>:14: RuntimeWarning: overflow encountered in scalar add\n",
            "  total_pixel_value += letter[j,k]\n",
            "<ipython-input-20-d2ad2478f03d>:14: RuntimeWarning: overflow encountered in scalar add\n",
            "  total_pixel_value += letter[j,k]\n",
            "<ipython-input-20-d2ad2478f03d>:14: RuntimeWarning: overflow encountered in scalar add\n",
            "  total_pixel_value += letter[j,k]\n",
            "<ipython-input-20-d2ad2478f03d>:14: RuntimeWarning: overflow encountered in scalar add\n",
            "  total_pixel_value += letter[j,k]\n",
            "<ipython-input-20-d2ad2478f03d>:14: RuntimeWarning: overflow encountered in scalar add\n",
            "  total_pixel_value += letter[j,k]\n",
            "<ipython-input-20-d2ad2478f03d>:14: RuntimeWarning: overflow encountered in scalar add\n",
            "  total_pixel_value += letter[j,k]\n",
            "<ipython-input-20-d2ad2478f03d>:14: RuntimeWarning: overflow encountered in scalar add\n",
            "  total_pixel_value += letter[j,k]\n",
            "<ipython-input-20-d2ad2478f03d>:14: RuntimeWarning: overflow encountered in scalar add\n",
            "  total_pixel_value += letter[j,k]\n",
            "<ipython-input-20-d2ad2478f03d>:14: RuntimeWarning: overflow encountered in scalar add\n",
            "  total_pixel_value += letter[j,k]\n",
            "<ipython-input-20-d2ad2478f03d>:14: RuntimeWarning: overflow encountered in scalar add\n",
            "  total_pixel_value += letter[j,k]\n",
            "<ipython-input-20-d2ad2478f03d>:14: RuntimeWarning: overflow encountered in scalar add\n",
            "  total_pixel_value += letter[j,k]\n",
            "<ipython-input-20-d2ad2478f03d>:14: RuntimeWarning: overflow encountered in scalar add\n",
            "  total_pixel_value += letter[j,k]\n",
            "<ipython-input-20-d2ad2478f03d>:14: RuntimeWarning: overflow encountered in scalar add\n",
            "  total_pixel_value += letter[j,k]\n",
            "<ipython-input-20-d2ad2478f03d>:14: RuntimeWarning: overflow encountered in scalar add\n",
            "  total_pixel_value += letter[j,k]\n",
            "<ipython-input-20-d2ad2478f03d>:14: RuntimeWarning: overflow encountered in scalar add\n",
            "  total_pixel_value += letter[j,k]\n",
            "<ipython-input-20-d2ad2478f03d>:14: RuntimeWarning: overflow encountered in scalar add\n",
            "  total_pixel_value += letter[j,k]\n",
            "<ipython-input-20-d2ad2478f03d>:14: RuntimeWarning: overflow encountered in scalar add\n",
            "  total_pixel_value += letter[j,k]\n",
            "<ipython-input-20-d2ad2478f03d>:14: RuntimeWarning: overflow encountered in scalar add\n",
            "  total_pixel_value += letter[j,k]\n",
            "<ipython-input-20-d2ad2478f03d>:14: RuntimeWarning: overflow encountered in scalar add\n",
            "  total_pixel_value += letter[j,k]\n",
            "<ipython-input-20-d2ad2478f03d>:14: RuntimeWarning: overflow encountered in scalar add\n",
            "  total_pixel_value += letter[j,k]\n",
            "<ipython-input-20-d2ad2478f03d>:14: RuntimeWarning: overflow encountered in scalar add\n",
            "  total_pixel_value += letter[j,k]\n",
            "<ipython-input-20-d2ad2478f03d>:14: RuntimeWarning: overflow encountered in scalar add\n",
            "  total_pixel_value += letter[j,k]\n",
            "<ipython-input-20-d2ad2478f03d>:14: RuntimeWarning: overflow encountered in scalar add\n",
            "  total_pixel_value += letter[j,k]\n",
            "<ipython-input-20-d2ad2478f03d>:14: RuntimeWarning: overflow encountered in scalar add\n",
            "  total_pixel_value += letter[j,k]\n",
            "<ipython-input-20-d2ad2478f03d>:14: RuntimeWarning: overflow encountered in scalar add\n",
            "  total_pixel_value += letter[j,k]\n",
            "<ipython-input-20-d2ad2478f03d>:14: RuntimeWarning: overflow encountered in scalar add\n",
            "  total_pixel_value += letter[j,k]\n",
            "<ipython-input-20-d2ad2478f03d>:14: RuntimeWarning: overflow encountered in scalar add\n",
            "  total_pixel_value += letter[j,k]\n",
            "<ipython-input-20-d2ad2478f03d>:14: RuntimeWarning: overflow encountered in scalar add\n",
            "  total_pixel_value += letter[j,k]\n",
            "<ipython-input-20-d2ad2478f03d>:14: RuntimeWarning: overflow encountered in scalar add\n",
            "  total_pixel_value += letter[j,k]\n",
            "<ipython-input-20-d2ad2478f03d>:14: RuntimeWarning: overflow encountered in scalar add\n",
            "  total_pixel_value += letter[j,k]\n",
            "<ipython-input-20-d2ad2478f03d>:14: RuntimeWarning: overflow encountered in scalar add\n",
            "  total_pixel_value += letter[j,k]\n",
            "<ipython-input-20-d2ad2478f03d>:14: RuntimeWarning: overflow encountered in scalar add\n",
            "  total_pixel_value += letter[j,k]\n",
            "<ipython-input-20-d2ad2478f03d>:14: RuntimeWarning: overflow encountered in scalar add\n",
            "  total_pixel_value += letter[j,k]\n",
            "<ipython-input-20-d2ad2478f03d>:14: RuntimeWarning: overflow encountered in scalar add\n",
            "  total_pixel_value += letter[j,k]\n",
            "<ipython-input-20-d2ad2478f03d>:14: RuntimeWarning: overflow encountered in scalar add\n",
            "  total_pixel_value += letter[j,k]\n",
            "<ipython-input-20-d2ad2478f03d>:14: RuntimeWarning: overflow encountered in scalar add\n",
            "  total_pixel_value += letter[j,k]\n",
            "<ipython-input-20-d2ad2478f03d>:14: RuntimeWarning: overflow encountered in scalar add\n",
            "  total_pixel_value += letter[j,k]\n",
            "<ipython-input-20-d2ad2478f03d>:14: RuntimeWarning: overflow encountered in scalar add\n",
            "  total_pixel_value += letter[j,k]\n"
          ]
        }
      ]
    },
    {
      "cell_type": "code",
      "source": [
        "# STEP 4.5\n",
        "\n",
        "# These steps process the scanned images to be in the same format and have the same properties as the EMNIST images\n",
        "# They are described by the EMNIST authors in detail here: https://arxiv.org/abs/1702.05373v1\n",
        "processed_story = []\n",
        "\n",
        "for img in handwritten_story:\n",
        "  #step 1: Apply Gaussian blur filter\n",
        "  img = cv2.GaussianBlur(img, (7,7), 0)\n",
        "\n",
        "  #steps 2 and 3: Extract the Region of Interest in the image and center in square\n",
        "  points = cv2.findNonZero(img)\n",
        "  x, y, w, h = cv2.boundingRect(points)\n",
        "  if (w > 0 and h > 0):\n",
        "    if w > h:\n",
        "      y = y - (w-h)//2\n",
        "      img = img[y:y+w, x:x+w]\n",
        "    else:\n",
        "      x = x - (h-w)//2\n",
        "      img = img[y:y+h, x:x+h]\n",
        "\n",
        "  #step 4: Resize and resample to be 28 x 28 pixels\n",
        "  img = cv2.resize(img, (28,28), interpolation = cv2.INTER_CUBIC)\n",
        "\n",
        "  #step 5: Normalize pixels and reshape before adding to the new story array\n",
        "  img = img/255\n",
        "  img = img.reshape((28,28))\n",
        "  processed_story.append(img)\n",
        "\n",
        "print(\"Processed the scanned images.\")\n",
        "\n",
        "import matplotlib.pyplot as plt\n",
        "plt.imshow(processed_story[4]) #<<< change this index if you want to see a different letter from the story"
      ],
      "metadata": {
        "colab": {
          "base_uri": "https://localhost:8080/",
          "height": 466
        },
        "id": "YeRMnKynEhWF",
        "outputId": "c6123a6f-66f4-4363-c398-2045ab606c1f"
      },
      "execution_count": 21,
      "outputs": [
        {
          "output_type": "stream",
          "name": "stdout",
          "text": [
            "Processed the scanned images.\n"
          ]
        },
        {
          "output_type": "execute_result",
          "data": {
            "text/plain": [
              "<matplotlib.image.AxesImage at 0x7bdeba1d8950>"
            ]
          },
          "metadata": {},
          "execution_count": 21
        },
        {
          "output_type": "display_data",
          "data": {
            "text/plain": [
              "<Figure size 640x480 with 1 Axes>"
            ],
            "image/png": "[encoded data removed]"
          },
          "metadata": {}
        }
      ]
    },
    {
      "cell_type": "code",
      "source": [
        "# STEP 4.6\n",
        "\n",
        "# This is a library we need to do some math on the image to be able to give it to the MLP in the right format\n",
        "import numpy\n",
        "\n",
        "typed_story = \"\"\n",
        "for letter in processed_story:\n",
        "  #this bit of code checks to see if the image is just a blank space by looking at the color of all the pixels summed\n",
        "  total_pixel_value = 0\n",
        "  for j in range(28):\n",
        "    for k in range(28):\n",
        "      total_pixel_value += letter[j,k]\n",
        "  if total_pixel_value < 20:\n",
        "    typed_story = typed_story + \" \"\n",
        "  else:         #if it NOT a blank, it actually runs the prediction algorithm on it\n",
        "    single_item_array = (numpy.array(letter)).reshape(1,784)\n",
        "    prediction = mlp2.predict(single_item_array)\n",
        "    typed_story = typed_story + str(chr(prediction[0]+96))\n",
        "\n",
        "print(\"Conversion to typed story complete!\")\n",
        "print(typed_story)"
      ],
      "metadata": {
        "colab": {
          "base_uri": "https://localhost:8080/"
        },
        "id": "fsn6pwyiEqft",
        "outputId": "1c38b9e7-f103-4958-d8b3-5790000b4e9a"
      },
      "execution_count": 22,
      "outputs": [
        {
          "output_type": "stream",
          "name": "stdout",
          "text": [
            "Conversion to typed story complete!\n",
            "wzn tedjr ts ody vozmx wdjjgmmw m tnss ms gdxn rin beq qoda qemmmam qmmw wtobje esq wins egj ew osnn\n"
          ]
        }
      ]
    }
  ]
}