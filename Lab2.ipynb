{
  "nbformat": 4,
  "nbformat_minor": 0,
  "metadata": {
    "colab": {
      "provenance": [],
      "gpuType": "T4"
    },
    "kernelspec": {
      "name": "python3",
      "display_name": "Python 3"
    },
    "language_info": {
      "name": "python"
    },
    "accelerator": "GPU"
  },
  "cells": [
    {
      "cell_type": "code",
      "execution_count": 2,
      "metadata": {
        "colab": {
          "base_uri": "https://localhost:8080/"
        },
        "id": "9GLSd_q6cFmj",
        "outputId": "cf301e43-18d9-475b-fe70-b55f19933519"
      },
      "outputs": [
        {
          "output_type": "stream",
          "name": "stdout",
          "text": [
            "Our dataset contains 626 vlogbrothers scripts\n",
            "and 31924 lexical types\n"
          ]
        }
      ],
      "source": [
        "# STEP 1.1\n",
        "\n",
        "from urllib.request import urlopen\n",
        "txt = urlopen(\"https://raw.githubusercontent.com/crash-course-ai/lab2-nlp/master/vlogbrothers.txt\").read().decode('ascii').split(\"\\n\")\n",
        "print(\"Our dataset contains {} vlogbrothers scripts\".format(len(txt)))\n",
        "# ADVANCED_CHANGEME -- You can change this to load any text file\n",
        "# You want it to be one line of plain text for every script.  Extra\n",
        "# annotations like [John:] or *starts coughing* make learning more difficult.\n",
        "everything = set([w for s in txt for w in s.split()])\n",
        "print(\"and {} lexical types\".format(len(everything)))"
      ]
    },
    {
      "cell_type": "code",
      "metadata": {
        "id": "_6RgRCeEATzo",
        "colab": {
          "base_uri": "https://localhost:8080/"
        },
        "outputId": "4f7206e1-fe54-418c-8e0a-3b15cff757fa"
      },
      "source": [
        "# STEP 1.2\n",
        "\n",
        "# 1. Import the tokenizer\n",
        "import spacy\n",
        "nlp = spacy.load(\"en_core_web_sm\", disable=[\"parser\",\"tagger\",\"ner\",\"textcat\"])\n",
        "\n",
        "# 2. Tokenize\n",
        "txt = [nlp(s) for s in txt]\n",
        "\n",
        "# 3. Mark the beginning and end of each script\n",
        "txt = [ [\"<s>\"] + [str(w) for w in s] + [\"</s>\"] for s in txt]\n",
        "\n",
        "# 4. Separate the data into training and validation\n",
        "train = txt[:-5]\n",
        "valid = txt[-5:]\n",
        "\n",
        "# 5. Flatten the lists into one long string and remove extra whitespace\n",
        "train = [w for s in train for w in s if not w.isspace()]\n",
        "valid = [w for s in valid for w in s if not w.isspace()]"
      ],
      "execution_count": 3,
      "outputs": [
        {
          "output_type": "stream",
          "name": "stderr",
          "text": [
            "/usr/local/lib/python3.11/dist-packages/spacy/pipeline/lemmatizer.py:211: UserWarning: [W108] The rule-based lemmatizer did not find POS annotation for one or more tokens. Check that your pipeline includes components that assign token.pos, typically 'tagger'+'attribute_ruler' or 'morphologizer'.\n",
            "  warnings.warn(Warnings.W108)\n"
          ]
        }
      ]
    },
    {
      "cell_type": "code",
      "source": [
        "# STEP 1.3\n",
        "\n",
        "\"\"\"\n",
        "    How big is our dataset?\n",
        "\"\"\"\n",
        "print(\"Our training dataset contains {} lexical types\".format(len(set(train))))\n",
        "print(\"Our training dataset contains {} lexical tokens\".format(len(train)))"
      ],
      "metadata": {
        "colab": {
          "base_uri": "https://localhost:8080/"
        },
        "id": "fZbbOkBWiUUT",
        "outputId": "8e33cac8-effc-49e6-d033-3440af23b959"
      },
      "execution_count": 4,
      "outputs": [
        {
          "output_type": "stream",
          "name": "stdout",
          "text": [
            "Our training dataset contains 22897 lexical types\n",
            "Our training dataset contains 569698 lexical tokens\n"
          ]
        }
      ]
    },
    {
      "cell_type": "code",
      "source": [
        "# STEP 1.4\n",
        "\n",
        "# 1. Count the frequencies of every word\n",
        "from collections import Counter, defaultdict\n",
        "counts = Counter(train)\n",
        "\n",
        "frequencies = [0]*8\n",
        "for w in counts:\n",
        "  if counts[w] >= 128:\n",
        "    frequencies[0] += 1\n",
        "  elif counts[w] >= 64:\n",
        "    frequencies[1] += 1\n",
        "  elif counts[w] >= 32:\n",
        "    frequencies[2] += 1\n",
        "  elif counts[w] >= 16:\n",
        "    frequencies[3] += 1\n",
        "  elif counts[w] >= 8:\n",
        "    frequencies[4] += 1\n",
        "  elif counts[w] >= 4:\n",
        "    frequencies[5] += 1\n",
        "  elif counts[w] >= 2:\n",
        "    frequencies[6] += 1\n",
        "  else:\n",
        "    frequencies[7] += 1\n",
        "\n",
        "\n",
        "# 2. Plot their distributions\n",
        "import matplotlib.pyplot as plt\n",
        "import seaborn as sns\n",
        "\n",
        "f,a = plt.subplots(1,1,figsize=(10,5))\n",
        "a.set(xlabel='Lexical types occuring more then n times',\n",
        "      ylabel='Number of lexical types')\n",
        "\n",
        "labels = [128, 64, 32, 16, 8, 4, 2, 1]\n",
        "_ = sns.barplot(x=labels, y=frequencies, ax=a, order=labels)"
      ],
      "metadata": {
        "colab": {
          "base_uri": "https://localhost:8080/",
          "height": 465
        },
        "id": "_6Z3Pe-ykXMI",
        "outputId": "afc7d5df-4099-4ae2-ecc7-ed0bd2901c8e"
      },
      "execution_count": 5,
      "outputs": [
        {
          "output_type": "display_data",
          "data": {
            "text/plain": [
              "<Figure size 1000x500 with 1 Axes>"
            ],
            "image/png": "[encoded data removed]"
          },
          "metadata": {}
        }
      ]
    },
    {
      "cell_type": "code",
      "source": [
        "# STEP 1.5\n",
        "\n",
        "from textwrap import wrap\n",
        "rare = [w for w in counts if counts[w] == 1]\n",
        "for line in wrap(\"   \".join([\"{:15s}\".format(w) for w in rare[:100]]), width=70):\n",
        "  print(line)"
      ],
      "metadata": {
        "colab": {
          "base_uri": "https://localhost:8080/"
        },
        "id": "g-2MgwlokrsP",
        "outputId": "58550315-c7fc-4b52-9ce2-06ff04040d81"
      },
      "execution_count": 6,
      "outputs": [
        {
          "output_type": "stream",
          "name": "stdout",
          "text": [
            "Pisgah            recycle           Inconvenient      sorta\n",
            "ignored           Sheets            Toilet            Situation\n",
            "oghomamamam       Oomph             Drinking          grizzly\n",
            "malt              minty             alcoholy          tast-\n",
            "achoo             Babysitter        Brave             Eden\n",
            "Biblical          exalted           Eggers            Gourevitch\n",
            "Thur-             patriarchal       Caravans          BP\n",
            "58                Sixteen           condense          12:15\n",
            "Misprinted        floss             terse             Punishment\n",
            "Continuum         Apocalypticism    Emmitt            styrofoam\n",
            "locations         Dances            Boxing            Federation\n",
            "Upper             Poops             Poop              Kirsten\n",
            "Dunst             Umbros            UEFA              Gunter\n",
            "nonfictionaly     nonfictional      Roker             Ilyich\n",
            "Linden            bullshit          Monty             Python\n",
            "Idle              Lilliputians      Naked             gaping\n",
            "theorem           origami           ambiguously       exhaustible\n",
            "grace             Mortal            Kombat            tuba\n",
            "Fighter           Quarterback       jab               Who'd\n",
            "Tiki              Barber            hm                Blaise\n",
            "Pascal            Immanuel          Kant              Mahatma\n",
            "Mandela           Beatles           calculators       trombones\n",
            "D&D               drones            asstica           Ash\n",
            "Lent              hmmm              hmmmmmm           Horrible\n",
            "Himalayas         Huge              Hairy             Terrifying\n"
          ]
        }
      ]
    },
    {
      "cell_type": "code",
      "source": [
        "# STEP 1.6\n",
        "\n",
        "# This is a little function to help us clean up the data\n",
        "# CHANGEME -- Introduce or remove rules\n",
        "import re\n",
        "def simplify(w):\n",
        "    # Remove extra punctuation\n",
        "    w = w.replace(\"-\", \"\").replace(\"~\",\"\")\n",
        "\n",
        "    # Replace numbers with # sign\n",
        "    w = re.sub('\\d', '#', w)\n",
        "\n",
        "    # Change some endings\n",
        "    if len(w) > 3 and w[-2:] in set([\"ed\", \"er\",\"ly\"]):\n",
        "        return [w[:-2], w[-2:]]\n",
        "    elif len(w) > 4 and w[-3:] in set([\"ing\",\"'re\"]):\n",
        "        return [w[:-3], w[-3:]]\n",
        "    return [w]"
      ],
      "metadata": {
        "id": "JNdc7YW0lgwd"
      },
      "execution_count": 7,
      "outputs": []
    },
    {
      "cell_type": "code",
      "source": [
        "# STEP 1.7\n",
        "\n",
        "# 1. Go through and clean all of our data\n",
        "train_clean = []\n",
        "for w in train:\n",
        "    for piece in simplify(w):\n",
        "        train_clean.append(piece)\n",
        "valid_clean = []\n",
        "for w in valid:\n",
        "    for piece in simplify(w):\n",
        "        valid_clean.append(piece)\n",
        "\n",
        "\"\"\"\n",
        "    How big is our dataset?\n",
        "\"\"\"\n",
        "print(\"{} lexical types\".format(len(set(train_clean))))\n",
        "print(\"{} lexical tokens\".format(len(train_clean)))\n",
        "\n",
        "\"\"\"\n",
        "    What's our distribution look like?\n",
        "\"\"\"\n",
        "counts = Counter(train_clean)\n",
        "\n",
        "\n",
        "frequencies = [0]*8\n",
        "for w in counts:\n",
        "  if counts[w] >= 128:\n",
        "    frequencies[0] += 1\n",
        "  elif counts[w] >= 64:\n",
        "    frequencies[1] += 1\n",
        "  elif counts[w] >= 32:\n",
        "    frequencies[2] += 1\n",
        "  elif counts[w] >= 16:\n",
        "    frequencies[3] += 1\n",
        "  elif counts[w] >= 8:\n",
        "    frequencies[4] += 1\n",
        "  elif counts[w] >= 4:\n",
        "    frequencies[5] += 1\n",
        "  elif counts[w] >= 2:\n",
        "    frequencies[6] += 1\n",
        "  else:\n",
        "    frequencies[7] += 1\n",
        "\n",
        "\n",
        "# 2. Plot their distributions\n",
        "f,a = plt.subplots(1,1,figsize=(10,5))\n",
        "a.set(xlabel='Lexical types occuring more then n times',\n",
        "      ylabel='Number of lexical types')\n",
        "\n",
        "labels = [128, 64, 32, 16, 8, 4, 2, 1]\n",
        "_ = sns.barplot(x=labels, y=frequencies, ax=a, order=labels)"
      ],
      "metadata": {
        "colab": {
          "base_uri": "https://localhost:8080/",
          "height": 501
        },
        "id": "fIYzLR-MlwWK",
        "outputId": "0fe9906e-7cfb-42f1-9ead-7ad57c437b5e"
      },
      "execution_count": 8,
      "outputs": [
        {
          "output_type": "stream",
          "name": "stdout",
          "text": [
            "19958 lexical types\n",
            "612671 lexical tokens\n"
          ]
        },
        {
          "output_type": "display_data",
          "data": {
            "text/plain": [
              "<Figure size 1000x500 with 1 Axes>"
            ],
            "image/png": "[encoded data removed]"
          },
          "metadata": {}
        }
      ]
    },
    {
      "cell_type": "code",
      "source": [
        "# STEP 1.8\n",
        "\n",
        "counts_clean = Counter(train_clean)\n",
        "train_unk = [w if counts_clean[w] > 1 else \"unk\" for w in train_clean]\n",
        "valid_unk = [w if w in counts_clean and counts_clean[w] > 1 \\\n",
        "               else \"unk\" for w in valid_clean]\n",
        "\n",
        "# Let's plot these one last time\n",
        "counts = Counter(train_unk)\n",
        "\n",
        "frequencies = [0]*8\n",
        "for w in counts:\n",
        "  if counts[w] >= 128:\n",
        "    frequencies[0] += 1\n",
        "  elif counts[w] >= 64:\n",
        "    frequencies[1] += 1\n",
        "  elif counts[w] >= 32:\n",
        "    frequencies[2] += 1\n",
        "  elif counts[w] >= 16:\n",
        "    frequencies[3] += 1\n",
        "  elif counts[w] >= 8:\n",
        "    frequencies[4] += 1\n",
        "  elif counts[w] >= 4:\n",
        "    frequencies[5] += 1\n",
        "  elif counts[w] >= 2:\n",
        "    frequencies[6] += 1\n",
        "  else:\n",
        "    frequencies[7] += 1\n",
        "\n",
        "\n",
        "# 2. Plot their distributions\n",
        "f,a = plt.subplots(1,1,figsize=(10,5))\n",
        "a.set(xlabel='Lexical types occuring more then n times',\n",
        "      ylabel='Number of lexical types')\n",
        "\n",
        "labels = [128, 64, 32, 16, 8, 4, 2, 1]\n",
        "_ = sns.barplot(x=labels, y=frequencies, ax=a, order=labels)"
      ],
      "metadata": {
        "colab": {
          "base_uri": "https://localhost:8080/",
          "height": 465
        },
        "id": "89c5gQMAmW4J",
        "outputId": "bf63d2b5-487f-44c3-8c26-acef2ce0d8ba"
      },
      "execution_count": 9,
      "outputs": [
        {
          "output_type": "display_data",
          "data": {
            "text/plain": [
              "<Figure size 1000x500 with 1 Axes>"
            ],
            "image/png": "[encoded data removed]"
          },
          "metadata": {}
        }
      ]
    },
    {
      "cell_type": "code",
      "source": [
        "# STEP 1.9\n",
        "\n",
        "rare = [w for w in counts_clean if counts_clean[w] == 1]\n",
        "rare.sort()\n",
        "for line in wrap(\"   \".join([\"{:15s}\".format(w) for w in rare[-100:]]), width=70):\n",
        "  print(line)"
      ],
      "metadata": {
        "colab": {
          "base_uri": "https://localhost:8080/"
        },
        "id": "IP8hzDSumtJF",
        "outputId": "143f7013-a75d-40b6-eb8b-493cba6fde1d"
      },
      "execution_count": 10,
      "outputs": [
        {
          "output_type": "stream",
          "name": "stdout",
          "text": [
            "wheels            wheezywait        whereabouts       whereby\n",
            "whilst            whim              whimp             whimper\n",
            "whines            whippersnappers   whiskeys          whistle\n",
            "whittl            wholesale         whoo              whoosey\n",
            "whopp             wi                widest            widows\n",
            "wields            wifi              wigg              wil\n",
            "wildebeests       wilderness        wildflowers\n",
            "willallpreordersofthefaultinourstarsbesign\n",
            "willallpreordersofturtlesallthewaydownbesign   willful\n",
            "willingness       willpow           wimp              wina\n",
            "windowless        winds             winkel            winter\n",
            "wipe              wipes             wires             wis\n",
            "witch             withdrew          witnesses         witty\n",
            "woahWOAHWOAH      wobb              wobby             womb\n",
            "woodblock         woodcuts          woodpeck          wooooo\n",
            "wordless          workedOn          workings          worldliness\n",
            "wormhole          worms             worsens           worthwhile\n",
            "wounds            wowzy             wrap              wrest\n",
            "wriggl            wrist             wrought           wwwaaaahhhh\n",
            "wynflete          xenophobic        y'just            ya'know\n",
            "yacht             yappy             yawn              yeaahhh\n",
            "yearbook          yeeedadababoobok   yen               yo\n",
            "yoga              yop               youMaybe          youngest\n",
            "youngst           yousendit         yummy             zany\n",
            "zapp              zeal              zer               zeros\n",
            "zombicorns        zombieness        zombification     zoos\n",
            "zrbajarb          zu\n"
          ]
        }
      ]
    },
    {
      "cell_type": "code",
      "source": [
        "# STEP 2.1\n",
        "\n",
        "\"\"\"\n",
        "  Prepare our datasets by converting words to numbers\n",
        "\"\"\"\n",
        "# Create a mapping from words <-> numbers\n",
        "vocabulary = set(train_unk)\n",
        "word_to_num = {}\n",
        "num_to_word = {}\n",
        "for num, word in enumerate(vocabulary):\n",
        "  word_to_num[word] = num\n",
        "  num_to_word[num] = word\n",
        "\n",
        "# Convert our datasets into numbers\n",
        "import torch\n",
        "train = torch.LongTensor(len(train_unk))\n",
        "for i in range(len(train_unk)):\n",
        "  train[i] = word_to_num[train_unk[i]]\n",
        "\n",
        "valid = torch.LongTensor(len(valid_unk))\n",
        "for i in range(len(valid_unk)):\n",
        "  valid[i] = word_to_num[valid_unk[i]]"
      ],
      "metadata": {
        "id": "YZowQ3__m0p9"
      },
      "execution_count": 11,
      "outputs": []
    },
    {
      "cell_type": "code",
      "source": [
        "# STEP 2.2\n",
        "\n",
        "# Parameters\n",
        "batch_size = 20\n",
        "seq_len = 35        # CHANGEME\n",
        "\n",
        "# Tell Torch to use a GPU for computation\n",
        "device = torch.device(\"cuda\")\n",
        "# Setting the random seed decreases variability\n",
        "# Remove next three lines if running on your laptop\n",
        "torch.manual_seed(0)\n",
        "torch.backends.cudnn.deterministic = True\n",
        "torch.backends.cudnn.benchmark = False\n",
        "\n",
        "# citation: https://github.com/pytorch/examples/tree/master/word_language_model\n",
        "def batchify(data, bsz):\n",
        "    # Work out how cleanly we can divide the dataset into bsz parts.\n",
        "    nbatch = data.size(0) // bsz\n",
        "    # Trim off any extra elements that wouldn't cleanly fit (remainders).\n",
        "    data = data.narrow(0, 0, nbatch * bsz)\n",
        "    # Evenly divide the data across the bsz batches.\n",
        "    data = data.view(bsz, -1).t().contiguous()\n",
        "    return data.to(device)\n",
        "\n",
        "def get_batch(source, i, seq_len):\n",
        "    seq_len = min(seq_len, len(source) - 1 - i)\n",
        "    data = source[i:i+seq_len]\n",
        "    target = source[i+1:i+1+seq_len].view(-1)\n",
        "    return data, target\n",
        "\n",
        "def repackage_hidden(h):\n",
        "    \"\"\"Wraps hidden states in new Tensors, to detach them from their history.\"\"\"\n",
        "    if isinstance(h, torch.Tensor):\n",
        "        return h.detach()\n",
        "    else:\n",
        "        return tuple(repackage_hidden(v) for v in h)\n",
        "\n",
        "train = batchify(train, batch_size)\n",
        "valid = batchify(valid, batch_size)"
      ],
      "metadata": {
        "id": "-iwAHCCDopYE"
      },
      "execution_count": 12,
      "outputs": []
    },
    {
      "cell_type": "code",
      "source": [
        "# STEP 2.3\n",
        "\n",
        "import torch.nn as nn\n",
        "\n",
        "class EncoderDecoder(nn.Module):\n",
        "  def __init__(self):\n",
        "    \"\"\"\n",
        "        Define all the parameters of the model\n",
        "    \"\"\"\n",
        "    super(EncoderDecoder, self).__init__()\n",
        "    # How tightly should we compress our language represenations?\n",
        "    self.embed_size = 300      # How big is our word vector   #ADVANCED_CHANGEME\n",
        "    self.hidden_size = 600     # How big is our hidden space  #ADVANCED_CHANGEME\n",
        "\n",
        "    \"\"\" Converting words to Vectors \"\"\"\n",
        "    # A lookup table for translating a word into a vector\n",
        "    self.embedding = nn.Embedding(len(vocabulary), self.embed_size)\n",
        "    # Initialize our word vectors with a random uniform distribution\n",
        "    initrange = 0.1\n",
        "    self.embedding.weight.data.uniform_(-initrange, initrange)\n",
        "\n",
        "\n",
        "    \"\"\" An RNN (LSTM) with dropout \"\"\"\n",
        "    self.rnn = nn.LSTM(input_size=self.embed_size, hidden_size=self.hidden_size)\n",
        "    self.shrink = nn.Linear(self.hidden_size, self.embed_size)\n",
        "    self.drop = nn.Dropout(p=0.5)\n",
        "\n",
        "    \"\"\" Predicting words from our model \"\"\"\n",
        "    # We convert our vector to a set of scores over words\n",
        "    self.decode = nn.Linear(self.embed_size, self.embedding.weight.size(0))\n",
        "    # We use the same matrix for this ``decoding'' that we used for ``encoding''\n",
        "    # https://arxiv.org/abs/1608.05859\n",
        "    self.decode.weight = self.embedding.weight\n",
        "    self.decode.bias.data.zero_()\n",
        "\n",
        "\n",
        "  def forward(self, input, hidden=None):\n",
        "    \"\"\"\n",
        "        Run the model\n",
        "    \"\"\"\n",
        "    # 1. Map words to vectors\n",
        "    embedded = self.embedding(input)\n",
        "    # 2. Process with an RNN\n",
        "    if hidden is not None:\n",
        "      output, hidden = self.rnn(embedded, hidden)\n",
        "    else:\n",
        "      output, hidden = self.rnn(embedded)\n",
        "    # 3. Apply dropout\n",
        "    output = F.relu(self.shrink(self.drop(output)))\n",
        "    # 4. Score the likelihood of every possible next word\n",
        "    decoded = self.decode(output)\n",
        "    return hidden, decoded"
      ],
      "metadata": {
        "id": "owWtLi8qosRo"
      },
      "execution_count": 13,
      "outputs": []
    },
    {
      "cell_type": "code",
      "source": [
        "# STEP 3.1\n",
        "\n",
        "import torch.nn.functional as F\n",
        "def training(model, data, targets, hidden):\n",
        "  # Reset the model\n",
        "  model.zero_grad()\n",
        "\n",
        "  # Run the model to see its predictions and hidden states\n",
        "  hidden, prediction_vector = model(data, hidden)\n",
        "  prediction_vector = prediction_vector.view(len(targets), -1)\n",
        "  # Compare the model's predictions at each timestep to the original data\n",
        "  loss = F.cross_entropy(prediction_vector, targets)\n",
        "\n",
        "  # Compute gradients and perform back-propagation\n",
        "  loss.backward()\n",
        "  torch.nn.utils.clip_grad_norm_(model.parameters(), 0.25)\n",
        "\n",
        "  # Return the current model loss on this data item\n",
        "  return loss.item(), repackage_hidden(hidden)"
      ],
      "metadata": {
        "id": "dQy5snGfo_bt"
      },
      "execution_count": 14,
      "outputs": []
    },
    {
      "cell_type": "code",
      "source": [
        "# STEP 3.2\n",
        "\n",
        "def evaluation(model):\n",
        "  \"\"\"\n",
        "    This function performs almost all the same logic as the training function\n",
        "    but it does not perform backpropagation, because we don't want to learn\n",
        "    from this data, just check our performance.\n",
        "  \"\"\"\n",
        "  model.eval()\n",
        "  hidden = None\n",
        "  valid_loss = 0\n",
        "  for i in range(0, valid.size(0) - seq_len, seq_len):\n",
        "    data, targets = get_batch(valid, i, seq_len)\n",
        "    hidden, prediction_vector = model(data, hidden)\n",
        "    hidden = repackage_hidden(hidden)\n",
        "\n",
        "    prediction_vector = prediction_vector.view(-1, len(vocabulary))\n",
        "    loss = F.cross_entropy(prediction_vector, targets)\n",
        "    valid_loss += loss.item()\n",
        "  return valid_loss / (valid.size(0)/seq_len)"
      ],
      "metadata": {
        "id": "vXRS9bKjpHdf"
      },
      "execution_count": 15,
      "outputs": []
    },
    {
      "cell_type": "code",
      "source": [
        "#STEP 3.3\n",
        "\n",
        "# Create an instance of the model\n",
        "import numpy as np\n",
        "import time\n",
        "import torch.optim as optim\n",
        "\n",
        "model = EncoderDecoder().float().to(device)\n",
        "\n",
        "\n",
        "# This value should match the batch_size used earlier for splitting up the data\n",
        "batch_size = 20\n",
        "\n",
        "# How long should we train?\n",
        "num_epochs = 10                # CHANGEME\n",
        "\n",
        "# How do we know when to stop training?\n",
        "prev_valid_loss = 1e100\n",
        "overfitting = False\n",
        "\n",
        "timing = time.time()\n",
        "for epoch in range(num_epochs):\n",
        "\n",
        "  # Set the model to training mode and iterate through the dataset\n",
        "  model.train()\n",
        "  optimizer = optim.Adam(model.parameters())\n",
        "  hidden = None\n",
        "  train_loss = 0\n",
        "  start_time = time.time()\n",
        "  for i in range(0, train.size(0) - 1, seq_len):\n",
        "    # Get the next training batch\n",
        "    data, targets = get_batch(train, i, seq_len)\n",
        "\n",
        "    # Run the model and perform backpropagation\n",
        "    loss, hidden = training(model, data, targets, hidden)\n",
        "    train_loss += loss\n",
        "    optimizer.step()\n",
        "\n",
        "  # Evaluate how well the model predicts unseen validation data\n",
        "  valid_loss = evaluation(model)\n",
        "\n",
        "  # Print the training and validation performance\n",
        "  train_loss /= (train.size(0)/seq_len)\n",
        "  finish_time = time.time()\n",
        "  print(\"Epoch {:2} took {:3.2f}s with train perplexity: {:7.2f}\"\\\n",
        "        \" and validation: {:7.2f}\".format(epoch, finish_time - start_time,\n",
        "                                          np.exp(train_loss),\n",
        "                                          np.exp(valid_loss)))\n",
        "\n",
        "  # Check if the model's ability to generalize has gotten worse.\n",
        "  # If so, slow the learning rate (shrink the step size)\n",
        "  if valid_loss > prev_valid_loss:\n",
        "    if not overfitting:\n",
        "      print(\"Uhoh, looks like we are overfitting, maybe we need fewer epochs\")\n",
        "    else:\n",
        "      print(\"I think it's time to stop\")\n",
        "      break\n",
        "    overfitting = True\n",
        "  prev_valid_loss = valid_loss\n",
        "\n",
        "total_time = (time.time() - timing)/60\n",
        "print(\"Completed {} epochs in {:5.3f} minutes\".format(epoch, total_time))"
      ],
      "metadata": {
        "colab": {
          "base_uri": "https://localhost:8080/"
        },
        "id": "7rTDl5djpNha",
        "outputId": "61dd6c2b-a2fa-496b-f90b-ad1758af0b0c"
      },
      "execution_count": 16,
      "outputs": [
        {
          "output_type": "stream",
          "name": "stdout",
          "text": [
            "Epoch  0 took 12.29s with train perplexity:  230.34 and validation:  107.19\n",
            "Epoch  1 took 11.99s with train perplexity:  119.96 and validation:   92.42\n",
            "Epoch  2 took 11.81s with train perplexity:  101.13 and validation:   86.61\n",
            "Epoch  3 took 12.00s with train perplexity:   91.60 and validation:   85.63\n",
            "Epoch  4 took 12.24s with train perplexity:   85.21 and validation:   84.92\n",
            "Epoch  5 took 13.17s with train perplexity:   80.48 and validation:   84.42\n",
            "Epoch  6 took 12.45s with train perplexity:   76.50 and validation:   85.82\n",
            "Uhoh, looks like we are overfitting, maybe we need fewer epochs\n",
            "Epoch  7 took 12.23s with train perplexity:   73.25 and validation:   87.04\n",
            "I think it's time to stop\n",
            "Completed 7 epochs in 1.717 minutes\n"
          ]
        }
      ]
    },
    {
      "cell_type": "code",
      "source": [
        "# STEP 4.1\n",
        "\n",
        "# What do we want the model to start the sentence with?\n",
        "prefix = \"<s> Good\"      #CHANGEME\n",
        "\n",
        "# How many words do we want the model to produce?\n",
        "words_to_generate = 50   #CHANGEME\n",
        "\n",
        "# We are only going to be looking at one example at a time\n",
        "batch_size = 1\n",
        "\n",
        "# Set the model to be in evaluation mode (no backprop!)\n",
        "model.eval()\n",
        "\n",
        "# Let's get lots of possible sentences\n",
        "argmax_sent = None\n",
        "argmax_prob = 0\n",
        "collection = []\n",
        "for item in range(100):\n",
        "  # Convert our sentence start into numbers\n",
        "  test = [word_to_num[word] if word in word_to_num else word_to_num[\"unk\"] \\\n",
        "          for word in prefix.split()]\n",
        "  probabilities = []\n",
        "\n",
        "  # Run the model on the same initial input and it's own generations until\n",
        "  # we reach `word_to_generate`\n",
        "  for w in range(words_to_generate):\n",
        "    # Run the model\n",
        "    input = torch.from_numpy(np.array(test)).to(device)\n",
        "    _, output = model(input.view(-1,1))\n",
        "\n",
        "    # Get the prediction for the last (next) word\n",
        "    last_pred = output[-1,:,:].squeeze()\n",
        "\n",
        "    # We're going to block generation of unk\n",
        "    last_pred[word_to_num[\"unk\"]] = -100\n",
        "\n",
        "    # Do we want to sample from this distrubtion?\n",
        "    if item > 0:\n",
        "      # A temperature makes the distribution peakier (if < 1) or flatter if > 1\n",
        "      last_pred /= 0.70   #ADVANCED_CHANGEME\n",
        "\n",
        "      # Turn this into a distribution\n",
        "      dist = torch.distributions.categorical.Categorical(logits=last_pred)\n",
        "\n",
        "      # Sample\n",
        "      predicted_idx = dist.sample().item()\n",
        "\n",
        "    else:\n",
        "      # If we aren't sampling, just take the most probable word\n",
        "      _, predicted_idx = last_pred.max(0)\n",
        "      predicted_idx = predicted_idx.item()\n",
        "\n",
        "    # Save the predicted word's probability\n",
        "    value = F.log_softmax(last_pred,-1)[predicted_idx].item()\n",
        "\n",
        "    # Add this predicted word (index) to the list\n",
        "    test.append(predicted_idx)\n",
        "    # Save the probability for sorting later\n",
        "    probabilities.append(value)\n",
        "\n",
        "  if item > 0:\n",
        "    # Add our sentence and its score to a list\n",
        "    generation = (np.exp(np.sum(probabilities)), \\\n",
        "                       \" \".join([num_to_word[w] for w in test]))\n",
        "    if generation not in collection:\n",
        "      collection.append(generation)\n",
        "  else:\n",
        "    argmax_sent = \" \".join([num_to_word[w] for w in test])\n",
        "    argmax_prob = np.exp(np.sum(probabilities))\n",
        "\n",
        "# Get the best model predictions\n",
        "collection.sort()\n",
        "collection.reverse()\n",
        "print(\"Argmax Generation:\")\n",
        "print(\"{:.2E}:  {}\\n\".format(argmax_prob,\"\\n\\t\\t\".join(wrap(argmax_sent))))\n",
        "print(\"\\nSampled Generations:\")\n",
        "for probability, sent in collection[:10]:\n",
        "  print(\"{:.2E}:  {}\\n\".format(probability, \"\\n\\t\\t\".join(wrap(sent))))"
      ],
      "metadata": {
        "colab": {
          "base_uri": "https://localhost:8080/"
        },
        "id": "s6RdXczep6_X",
        "outputId": "d8248fc3-977c-4af9-f7ce-dca291d525fa"
      },
      "execution_count": 17,
      "outputs": [
        {
          "output_type": "stream",
          "name": "stdout",
          "text": [
            "Argmax Generation:\n",
            "1.18E-39:  <s> Good morn ing Hank , it 's Tuesday . So I 'm go ing to be a lot of\n",
            "\t\tpeople who are n't , like , the first time I 'm go ing to be a lot of\n",
            "\t\tpeople who are n't . I mean , I 'm not go ing\n",
            "\n",
            "\n",
            "Sampled Generations:\n",
            "2.93E-13:  <s> Good morn ing Hank , it 's Tuesday . It 's Question Tuesday , the\n",
            "\t\tday that I answ er real questions from real nerdfighters , but it 's\n",
            "\t\ttime for the day of my life . Hank , I 'll see you on Friday . </s>\n",
            "\t\t<s> Good morn ing\n",
            "\n",
            "4.61E-14:  <s> Good morn ing Hank , it 's Tuesday . It 's Question Tuesday , the\n",
            "\t\tday that I answ er real questions from real awesome . Hank , I will\n",
            "\t\tsee you on Monday . </s> <s> Good morn ing Hank , it 's Tuesday . It\n",
            "\t\t's like I 'm\n",
            "\n",
            "3.76E-19:  <s> Good morn ing , Hank , it 's Tuesday . It 's Question Tuesday ,\n",
            "\t\tthe day that I answ er real questions from real Nerdfighters . It is\n",
            "\t\tgood . We have to talk about the money . Hank , I 'll see you on\n",
            "\t\tFriday . </s> <s> Good\n",
            "\n",
            "6.62E-24:  <s> Good morn ing Hank , it 's Friday . It 's Question Tuesday , the\n",
            "\t\tday that I answ er real questions from real nerdfighters . John , you\n",
            "\t\two n't make me the rich . I will see you on Friday . </s> <s> Good\n",
            "\t\tmorn ing Hank , it\n",
            "\n",
            "5.55E-26:  <s> Good morn ing Hank , it 's Tuesday . So I 'm not gon na do this ,\n",
            "\t\tbut I will see you tomorrow . </s> <s> Good morn ing Hank , it 's\n",
            "\t\tTuesday , June ##th . I 'm go ing to get some of the countries in\n",
            "\n",
            "1.36E-26:  <s> Good morn ing Hank , it 's Tuesday . Today 's video comes in the\n",
            "\t\tspecial parts . So here 's the me , that 's an one . Hank , I will see\n",
            "\t\tya on Tuesday . </s> <s> Good morn ing Hank , it 's Tuesday . It 's\n",
            "\n",
            "7.00E-27:  <s> Good morn ing Hank , it 's Tuesday . It 's Question Tuesday , the\n",
            "\t\tday that I answ er real questions from real nerdfighters . You 're gon\n",
            "\t\tna be awesome , I 'm on ly go ing to just address the same time so\n",
            "\t\tmuch . But I think\n",
            "\n",
            "1.89E-27:  <s> Good morn ing Hank , it 's Tuesday . It 's Tuesday . It 's\n",
            "\t\tQuestion Sunday , the day that I answ er real questions from real\n",
            "\t\tnerdfighters . If you can see here to the name . Hank , I 'm so excit\n",
            "\t\ted for it . So ,\n",
            "\n",
            "1.86E-28:  <s> Good morn ing Hank , it 's Tuesday , Ju ly #rd , #### , and I\n",
            "\t\tstart ed , and the eff of Hank ! \" \" Hank , I 'll see you on Wednesday\n",
            "\t\t. </s> <s> Good morn ing Hank , it 's Thursday , Ju ly ##nd\n",
            "\n",
            "3.86E-29:  <s> Good morn ing , Hank , it 's Tuesday , May ##th , #### . It 's\n",
            "\t\tWednesday . As you know I 'm not go ing to get out of Hank , and I\n",
            "\t\tlove you , and I 'll see you on Friday . </s> <s> Good morn ing\n",
            "\n"
          ]
        }
      ]
    }
  ]
}